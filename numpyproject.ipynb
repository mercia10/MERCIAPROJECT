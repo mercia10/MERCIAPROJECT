{
 "cells": [
  {
   "cell_type": "code",
   "execution_count": 7,
   "id": "3e80c46a",
   "metadata": {},
   "outputs": [],
   "source": [
    "import numpy as np"
   ]
  },
  {
   "cell_type": "markdown",
   "id": "b4ed615c",
   "metadata": {},
   "source": [
    "#### le type avec numpy"
   ]
  },
  {
   "cell_type": "code",
   "execution_count": 12,
   "id": "cfbc2901",
   "metadata": {},
   "outputs": [
    {
     "name": "stdout",
     "output_type": "stream",
     "text": [
      "float64\n"
     ]
    }
   ],
   "source": [
    "\n",
    "num = np.array([3,4.0,6])\n",
    "print(num.dtype)"
   ]
  },
  {
   "cell_type": "code",
   "execution_count": 15,
   "id": "8fac5fcd",
   "metadata": {},
   "outputs": [
    {
     "name": "stdout",
     "output_type": "stream",
     "text": [
      "[[1 2]\n",
      " [3 4]]\n"
     ]
    }
   ],
   "source": [
    "t = np.array([[1,2],[3,4]])\n",
    "print(t)"
   ]
  },
  {
   "cell_type": "markdown",
   "id": "d891d95e",
   "metadata": {},
   "source": [
    "## exemple tableau matrice\n"
   ]
  },
  {
   "cell_type": "code",
   "execution_count": 21,
   "id": "92916b7c",
   "metadata": {},
   "outputs": [
    {
     "name": "stdout",
     "output_type": "stream",
     "text": [
      "[[1 4]\n",
      " [3 4]\n",
      " [3 5]\n",
      " [5 2]]\n"
     ]
    }
   ],
   "source": [
    "tb = np.array([[1,4],[3,4],[3,5],[5,2]])\n",
    "print(tb)"
   ]
  },
  {
   "cell_type": "markdown",
   "id": "e86cc18b",
   "metadata": {},
   "source": [
    "## les tableaux multidimensionnels numpy\n"
   ]
  },
  {
   "cell_type": "code",
   "execution_count": 28,
   "id": "6c3d834d",
   "metadata": {},
   "outputs": [
    {
     "data": {
      "text/plain": [
       "array([[0, 0, 0, 0, 0, 0],\n",
       "       [0, 0, 0, 0, 0, 0],\n",
       "       [0, 0, 0, 0, 0, 0],\n",
       "       [0, 0, 0, 0, 0, 0],\n",
       "       [0, 0, 0, 0, 0, 0]])"
      ]
     },
     "execution_count": 28,
     "metadata": {},
     "output_type": "execute_result"
    }
   ],
   "source": [
    "##la fonction zeros,ones permetent d'initialiser le tableau rempli avec des zeros \n",
    "##specifier le nonbre de lihne et le nombre de colonne\n",
    "t0 = np.zeros((5,6), dtype =np.int32)### dtype =np.int32 pour changer le type en entier\n",
    "t0"
   ]
  },
  {
   "cell_type": "code",
   "execution_count": 29,
   "id": "32d33fff",
   "metadata": {},
   "outputs": [
    {
     "data": {
      "text/plain": [
       "array([1., 1., 1.])"
      ]
     },
     "execution_count": 29,
     "metadata": {},
     "output_type": "execute_result"
    }
   ],
   "source": [
    "t1 = np.ones(3)\n",
    "t1"
   ]
  },
  {
   "cell_type": "code",
   "execution_count": 31,
   "id": "8f5a4f84",
   "metadata": {},
   "outputs": [
    {
     "data": {
      "text/plain": [
       "array([[1., 1., 1., 1., 1., 1.],\n",
       "       [1., 1., 1., 1., 1., 1.],\n",
       "       [1., 1., 1., 1., 1., 1.],\n",
       "       [1., 1., 1., 1., 1., 1.]])"
      ]
     },
     "execution_count": 31,
     "metadata": {},
     "output_type": "execute_result"
    }
   ],
   "source": [
    "t1 = np.ones(3)\n",
    "t11 = np.ones((4,6))\n",
    "t11"
   ]
  },
  {
   "cell_type": "markdown",
   "id": "762d969f",
   "metadata": {},
   "source": [
    "## full permet de remplir le tableau en choisissant une valeur donné"
   ]
  },
  {
   "cell_type": "code",
   "execution_count": 35,
   "id": "2f3f7954",
   "metadata": {},
   "outputs": [
    {
     "data": {
      "text/plain": [
       "array([[9, 9, 9, 9, 9, 9, 9],\n",
       "       [9, 9, 9, 9, 9, 9, 9],\n",
       "       [9, 9, 9, 9, 9, 9, 9],\n",
       "       [9, 9, 9, 9, 9, 9, 9],\n",
       "       [9, 9, 9, 9, 9, 9, 9]])"
      ]
     },
     "execution_count": 35,
     "metadata": {},
     "output_type": "execute_result"
    }
   ],
   "source": [
    "t2 = np.full((5,7),9)\n",
    "t2"
   ]
  },
  {
   "cell_type": "markdown",
   "id": "2da92af4",
   "metadata": {},
   "source": [
    "## le tableau des nombres aleatoires"
   ]
  },
  {
   "cell_type": "code",
   "execution_count": 37,
   "id": "1af5c163",
   "metadata": {},
   "outputs": [
    {
     "data": {
      "text/plain": [
       "array([[ 0.65114488,  0.59806758,  1.56710527, -1.50902954,  0.26080415],\n",
       "       [ 0.41774434,  1.26010972,  2.52127352,  0.78172221, -0.30914492],\n",
       "       [-2.05004597, -2.67691682,  0.64825741,  0.16621417, -0.44996156],\n",
       "       [ 0.75883942, -0.87666716,  0.45731358,  1.6531109 ,  0.7623057 ]])"
      ]
     },
     "execution_count": 37,
     "metadata": {},
     "output_type": "execute_result"
    }
   ],
   "source": [
    "t_r = np.random.randn(4,5)\n",
    "t_r"
   ]
  },
  {
   "cell_type": "code",
   "execution_count": 39,
   "id": "1fdaf43a",
   "metadata": {},
   "outputs": [
    {
     "data": {
      "text/plain": [
       "array([[1., 0., 0., 0., 0., 0., 0., 0.],\n",
       "       [0., 1., 0., 0., 0., 0., 0., 0.],\n",
       "       [0., 0., 1., 0., 0., 0., 0., 0.],\n",
       "       [0., 0., 0., 1., 0., 0., 0., 0.],\n",
       "       [0., 0., 0., 0., 1., 0., 0., 0.],\n",
       "       [0., 0., 0., 0., 0., 1., 0., 0.],\n",
       "       [0., 0., 0., 0., 0., 0., 1., 0.],\n",
       "       [0., 0., 0., 0., 0., 0., 0., 1.]])"
      ]
     },
     "execution_count": 39,
     "metadata": {},
     "output_type": "execute_result"
    }
   ],
   "source": [
    "#####tableau matrice identité\n",
    "t_mi = np.eye(8)\n",
    "t_mi"
   ]
  },
  {
   "cell_type": "code",
   "execution_count": 42,
   "id": "24b8c9b7",
   "metadata": {},
   "outputs": [
    {
     "data": {
      "text/plain": [
       "array([1, 2, 3, 4, 5, 6])"
      ]
     },
     "execution_count": 42,
     "metadata": {},
     "output_type": "execute_result"
    }
   ],
   "source": [
    "#### creation de tableau espacer\n",
    "t_e = np.arange(1,7)\n",
    "t_e"
   ]
  },
  {
   "cell_type": "code",
   "execution_count": 48,
   "id": "7e1d2822",
   "metadata": {},
   "outputs": [
    {
     "data": {
      "text/plain": [
       "array([ 0.        ,  0.6122449 ,  1.2244898 ,  1.83673469,  2.44897959,\n",
       "        3.06122449,  3.67346939,  4.28571429,  4.89795918,  5.51020408,\n",
       "        6.12244898,  6.73469388,  7.34693878,  7.95918367,  8.57142857,\n",
       "        9.18367347,  9.79591837, 10.40816327, 11.02040816, 11.63265306,\n",
       "       12.24489796, 12.85714286, 13.46938776, 14.08163265, 14.69387755,\n",
       "       15.30612245, 15.91836735, 16.53061224, 17.14285714, 17.75510204,\n",
       "       18.36734694, 18.97959184, 19.59183673, 20.20408163, 20.81632653,\n",
       "       21.42857143, 22.04081633, 22.65306122, 23.26530612, 23.87755102,\n",
       "       24.48979592, 25.10204082, 25.71428571, 26.32653061, 26.93877551,\n",
       "       27.55102041, 28.16326531, 28.7755102 , 29.3877551 , 30.        ])"
      ]
     },
     "execution_count": 48,
     "metadata": {},
     "output_type": "execute_result"
    }
   ],
   "source": [
    "###tableau linéaire\n",
    "t_l = np.linspace(0,30)\n",
    "t_l"
   ]
  },
  {
   "cell_type": "markdown",
   "id": "3e56945b",
   "metadata": {},
   "source": [
    "### la forme et le remodelage de tableaux numpy"
   ]
  },
  {
   "cell_type": "code",
   "execution_count": 51,
   "id": "73449124",
   "metadata": {},
   "outputs": [
    {
     "name": "stdout",
     "output_type": "stream",
     "text": [
      "array [[1 4 4]\n",
      " [3 5 4]]\n",
      "dimension 2\n"
     ]
    }
   ],
   "source": [
    "### nombre d'axes\n",
    "a =np.array([[1,4,4],[3,5,4]])\n",
    "print(\"array\",a)\n",
    "print(\"dimension\",a.ndim)"
   ]
  },
  {
   "cell_type": "markdown",
   "id": "3d019baa",
   "metadata": {},
   "source": [
    "### recuperer ma forme du tableau numpy"
   ]
  },
  {
   "cell_type": "code",
   "execution_count": 63,
   "id": "5a1467ad",
   "metadata": {},
   "outputs": [
    {
     "name": "stdout",
     "output_type": "stream",
     "text": [
      "taille c :  (5, 5)\n",
      "le nombre de ligne 1 et le nombre de colonne 5 \n"
     ]
    }
   ],
   "source": [
    "### shape montre la forme du tableau\n",
    "c  =np.array([[1,4,6,5,4],[3,5,4,4,9],[1,4,6,5,4],[3,5,4,4,9],[3,5,4,4,9]])\n",
    "print(\"taille c : \", c.shape)\n",
    "##get recuperer le nombre de ligne et de colonne\n",
    "#0 pour le ligne\n",
    "l=c.shape[0]\n",
    "#1 pour le ligne\n",
    "c=c.shape[1]\n",
    "print (f\"le nombre de ligne {1} et le nombre de colonne {c} \")"
   ]
  },
  {
   "cell_type": "markdown",
   "id": "617cb9c9",
   "metadata": {},
   "source": [
    "## taille du tableau\n"
   ]
  },
  {
   "cell_type": "code",
   "execution_count": 70,
   "id": "073243a4",
   "metadata": {},
   "outputs": [
    {
     "data": {
      "text/plain": [
       "9"
      ]
     },
     "execution_count": 70,
     "metadata": {},
     "output_type": "execute_result"
    }
   ],
   "source": [
    "t_s =np.array([[1,4,4],[3,5,9],[3,5,9]])\n",
    "t_s.size\n",
    "### travailler taille du tableau manuellement\n",
    "p= t_s.shape[0]*t_s.shape[1]\n",
    "p"
   ]
  },
  {
   "cell_type": "code",
   "execution_count": 73,
   "id": "dcbbd37d",
   "metadata": {},
   "outputs": [
    {
     "data": {
      "text/plain": [
       "array([[1, 2],\n",
       "       [3, 4],\n",
       "       [5, 6]])"
      ]
     },
     "execution_count": 73,
     "metadata": {},
     "output_type": "execute_result"
    }
   ],
   "source": [
    "### changer la dimension du tableau\n",
    "d= np.array([1,2,3,4,5,6])\n",
    "d.reshape(3,2)\n",
    "d.reshape(3,-1)\n",
    "d.reshape(-1,3)"
   ]
  },
  {
   "cell_type": "markdown",
   "id": "38d4b62a",
   "metadata": {},
   "source": [
    "## aplatir le tableau"
   ]
  },
  {
   "cell_type": "code",
   "execution_count": 76,
   "id": "29c72d1b",
   "metadata": {},
   "outputs": [
    {
     "data": {
      "text/plain": [
       "array([1., 1., 1., 1.])"
      ]
     },
     "execution_count": 76,
     "metadata": {},
     "output_type": "execute_result"
    }
   ],
   "source": [
    "## lavel fait la refference mais flat fais la copie\n",
    "t_flaten = np.ones((2,2))\n",
    "t_flaten.flatten()"
   ]
  },
  {
   "cell_type": "code",
   "execution_count": 77,
   "id": "512b0c9b",
   "metadata": {},
   "outputs": [
    {
     "data": {
      "text/plain": [
       "array([1., 1., 1., 1.])"
      ]
     },
     "execution_count": 77,
     "metadata": {},
     "output_type": "execute_result"
    }
   ],
   "source": [
    "### ravel fait la meme chose que flat\n",
    "t_ravel =np.ones((2,2))\n",
    "d= t_ravel.ravel()\n",
    "d"
   ]
  },
  {
   "cell_type": "code",
   "execution_count": 78,
   "id": "9efcf626",
   "metadata": {},
   "outputs": [
    {
     "data": {
      "text/plain": [
       "0"
      ]
     },
     "execution_count": 78,
     "metadata": {},
     "output_type": "execute_result"
    }
   ],
   "source": [
    "## modifier la valeur de 1 par copie avec flat\n",
    "e= t_flaten[1]= 0\n",
    "e"
   ]
  },
  {
   "cell_type": "code",
   "execution_count": 79,
   "id": "baee423d",
   "metadata": {},
   "outputs": [
    {
     "data": {
      "text/plain": [
       "6"
      ]
     },
     "execution_count": 79,
     "metadata": {},
     "output_type": "execute_result"
    }
   ],
   "source": [
    "i= t_ravel[1]= 6\n",
    "i"
   ]
  },
  {
   "cell_type": "code",
   "execution_count": 80,
   "id": "70c9d5a5",
   "metadata": {},
   "outputs": [
    {
     "data": {
      "text/plain": [
       "array([[1., 1.],\n",
       "       [6., 6.]])"
      ]
     },
     "execution_count": 80,
     "metadata": {},
     "output_type": "execute_result"
    }
   ],
   "source": [
    "t_ravel"
   ]
  },
  {
   "cell_type": "code",
   "execution_count": 82,
   "id": "37f460d9",
   "metadata": {},
   "outputs": [
    {
     "data": {
      "text/plain": [
       "array([[1., 1.],\n",
       "       [0., 0.]])"
      ]
     },
     "execution_count": 82,
     "metadata": {},
     "output_type": "execute_result"
    }
   ],
   "source": [
    "t_flaten"
   ]
  },
  {
   "cell_type": "code",
   "execution_count": 83,
   "id": "bf382cc7",
   "metadata": {},
   "outputs": [
    {
     "data": {
      "text/plain": [
       "array([0., 0.])"
      ]
     },
     "execution_count": 83,
     "metadata": {},
     "output_type": "execute_result"
    }
   ],
   "source": [
    "e= t_flaten[1]\n",
    "e"
   ]
  },
  {
   "cell_type": "code",
   "execution_count": 87,
   "id": "b0a0c962",
   "metadata": {},
   "outputs": [
    {
     "data": {
      "text/plain": [
       "array([[3, 4, 5],\n",
       "       [5, 6, 7],\n",
       "       [8, 9, 1],\n",
       "       [4, 2, 3]])"
      ]
     },
     "execution_count": 87,
     "metadata": {},
     "output_type": "execute_result"
    }
   ],
   "source": [
    "t = np.array([[3,4,5],[5,6,7],[8,9,1],[4,2,3]])\n",
    "t"
   ]
  },
  {
   "cell_type": "code",
   "execution_count": 114,
   "id": "70495585",
   "metadata": {
    "scrolled": true
   },
   "outputs": [
    {
     "data": {
      "text/plain": [
       "array([[3, 4]])"
      ]
     },
     "execution_count": 114,
     "metadata": {},
     "output_type": "execute_result"
    }
   ],
   "source": [
    "d=t[]\n",
    "d"
   ]
  },
  {
   "cell_type": "code",
   "execution_count": null,
   "id": "c326b1de",
   "metadata": {},
   "outputs": [],
   "source": []
  },
  {
   "cell_type": "code",
   "execution_count": null,
   "id": "7180cd7b",
   "metadata": {},
   "outputs": [],
   "source": []
  }
 ],
 "metadata": {
  "kernelspec": {
   "display_name": "Python 3 (ipykernel)",
   "language": "python",
   "name": "python3"
  },
  "language_info": {
   "codemirror_mode": {
    "name": "ipython",
    "version": 3
   },
   "file_extension": ".py",
   "mimetype": "text/x-python",
   "name": "python",
   "nbconvert_exporter": "python",
   "pygments_lexer": "ipython3",
   "version": "3.10.9"
  }
 },
 "nbformat": 4,
 "nbformat_minor": 5
}
